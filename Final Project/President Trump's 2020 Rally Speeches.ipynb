{
 "cells": [
  {
   "cell_type": "markdown",
   "metadata": {},
   "source": [
    "# President Trump's 2020 Rally Speeches"
   ]
  },
  {
   "cell_type": "code",
   "execution_count": 1,
   "metadata": {},
   "outputs": [
    {
     "data": {
      "text/html": [
       "        <script type=\"text/javascript\">\n",
       "        window.PlotlyConfig = {MathJaxConfig: 'local'};\n",
       "        if (window.MathJax) {MathJax.Hub.Config({SVG: {font: \"STIX-Web\"}});}\n",
       "        if (typeof require !== 'undefined') {\n",
       "        require.undef(\"plotly\");\n",
       "        requirejs.config({\n",
       "            paths: {\n",
       "                'plotly': ['https://cdn.plot.ly/plotly-latest.min']\n",
       "            }\n",
       "        });\n",
       "        require(['plotly'], function(Plotly) {\n",
       "            window._Plotly = Plotly;\n",
       "        });\n",
       "        }\n",
       "        </script>\n",
       "        "
      ]
     },
     "metadata": {},
     "output_type": "display_data"
    }
   ],
   "source": [
    "import numpy as np \n",
    "import pandas as pd \n",
    "import plotly.express as ex\n",
    "import plotly.graph_objs as go\n",
    "import plotly.figure_factory as ff\n",
    "import matplotlib.pyplot as plt\n",
    "import plotly\n",
    "plotly.offline.init_notebook_mode (connected = True)\n",
    "import seaborn as sns\n",
    "sns.set_style('darkgrid')\n",
    "import nltk\n",
    "from wordcloud import WordCloud,STOPWORDS\n",
    "import string\n",
    "import re\n",
    "import spacy as sp\n",
    "nlps = sp.load('en')"
   ]
  },
  {
   "cell_type": "markdown",
   "metadata": {},
   "source": [
    "## Data Loading"
   ]
  },
  {
   "cell_type": "code",
   "execution_count": 19,
   "metadata": {},
   "outputs": [],
   "source": [
    "trump = pd.read_csv(\"trump_rally_transcripts.csv\")\n",
    "trump = trump.drop('Unnamed: 0', axis=1)\n",
    "t_loc_date = pd.read_excel(\"trump_speech_date_location.xlsx\")"
   ]
  },
  {
   "cell_type": "code",
   "execution_count": 56,
   "metadata": {},
   "outputs": [
    {
     "data": {
      "text/plain": [
       "array(['NC', 'OH', 'NH', 'NM', 'TX', 'MN', 'MS', 'KY', 'PA', 'MI', 'WI',\n",
       "       'NJ', nan, 'AZ', 'CO', 'NV', 'SC', 'OK', 'FL', 'VA', 'DC', 'IA',\n",
       "       'GA', 'NE'], dtype=object)"
      ]
     },
     "execution_count": 56,
     "metadata": {},
     "output_type": "execute_result"
    }
   ],
   "source": [
    "trump_speeches2 = trump.merge(t_loc_date,how='left',on='title')"
   ]
  },
  {
   "cell_type": "code",
   "execution_count": 28,
   "metadata": {},
   "outputs": [
    {
     "data": {
      "text/html": [
       "<div>\n",
       "<style scoped>\n",
       "    .dataframe tbody tr th:only-of-type {\n",
       "        vertical-align: middle;\n",
       "    }\n",
       "\n",
       "    .dataframe tbody tr th {\n",
       "        vertical-align: top;\n",
       "    }\n",
       "\n",
       "    .dataframe thead th {\n",
       "        text-align: right;\n",
       "    }\n",
       "</style>\n",
       "<table border=\"1\" class=\"dataframe\">\n",
       "  <thead>\n",
       "    <tr style=\"text-align: right;\">\n",
       "      <th></th>\n",
       "      <th>url</th>\n",
       "      <th>title</th>\n",
       "      <th>transcript</th>\n",
       "      <th>year</th>\n",
       "      <th>month</th>\n",
       "      <th>day</th>\n",
       "      <th>state</th>\n",
       "      <th>city/county</th>\n",
       "      <th>city/county type</th>\n",
       "      <th>note</th>\n",
       "    </tr>\n",
       "  </thead>\n",
       "  <tbody>\n",
       "    <tr>\n",
       "      <th>0</th>\n",
       "      <td>https://www.rev.com/blog/transcripts/donald-tr...</td>\n",
       "      <td>Donald Trump Speech Transcript at Greenville, ...</td>\n",
       "      <td>\\nThank you very much. Thank you. Thank you. ...</td>\n",
       "      <td>2019.0</td>\n",
       "      <td>7.0</td>\n",
       "      <td>17.0</td>\n",
       "      <td>NC</td>\n",
       "      <td>Greensville</td>\n",
       "      <td>red</td>\n",
       "      <td>NaN</td>\n",
       "    </tr>\n",
       "    <tr>\n",
       "      <th>1</th>\n",
       "      <td>https://www.rev.com/blog/transcripts/donald-tr...</td>\n",
       "      <td>Donald Trump Cincinnati Rally Speech Transcrip...</td>\n",
       "      <td>\\nThank you all. Thank you very much. Thank y...</td>\n",
       "      <td>2019.0</td>\n",
       "      <td>8.0</td>\n",
       "      <td>1.0</td>\n",
       "      <td>OH</td>\n",
       "      <td>Cincinnati</td>\n",
       "      <td>blue</td>\n",
       "      <td>NaN</td>\n",
       "    </tr>\n",
       "    <tr>\n",
       "      <th>2</th>\n",
       "      <td>https://www.rev.com/blog/transcripts/donald-tr...</td>\n",
       "      <td>Donald Trump New Hampshire Rally Transcript Au...</td>\n",
       "      <td>\\nThank you very much everybody. Thank you. W...</td>\n",
       "      <td>2019.0</td>\n",
       "      <td>8.0</td>\n",
       "      <td>15.0</td>\n",
       "      <td>NH</td>\n",
       "      <td>Manchester</td>\n",
       "      <td>blue</td>\n",
       "      <td>NaN</td>\n",
       "    </tr>\n",
       "    <tr>\n",
       "      <th>3</th>\n",
       "      <td>https://www.rev.com/blog/transcripts/donald-tr...</td>\n",
       "      <td>Donald Trump North Carolina Rally Transcript i...</td>\n",
       "      <td>\\nHello North Carolina! \\nTo Senator Tillis, ...</td>\n",
       "      <td>2019.0</td>\n",
       "      <td>9.0</td>\n",
       "      <td>9.0</td>\n",
       "      <td>NC</td>\n",
       "      <td>Fayetteville</td>\n",
       "      <td>blue</td>\n",
       "      <td>NaN</td>\n",
       "    </tr>\n",
       "    <tr>\n",
       "      <th>4</th>\n",
       "      <td>https://www.rev.com/blog/transcripts/donald-tr...</td>\n",
       "      <td>Donald Trump New Mexico Rally Transcript: Full...</td>\n",
       "      <td>\\nThank you. \\nWow, thank you. Thank you, New...</td>\n",
       "      <td>2019.0</td>\n",
       "      <td>9.0</td>\n",
       "      <td>16.0</td>\n",
       "      <td>NM</td>\n",
       "      <td>Rio Rancho</td>\n",
       "      <td>blue</td>\n",
       "      <td>NaN</td>\n",
       "    </tr>\n",
       "  </tbody>\n",
       "</table>\n",
       "</div>"
      ],
      "text/plain": [
       "                                                 url  \\\n",
       "0  https://www.rev.com/blog/transcripts/donald-tr...   \n",
       "1  https://www.rev.com/blog/transcripts/donald-tr...   \n",
       "2  https://www.rev.com/blog/transcripts/donald-tr...   \n",
       "3  https://www.rev.com/blog/transcripts/donald-tr...   \n",
       "4  https://www.rev.com/blog/transcripts/donald-tr...   \n",
       "\n",
       "                                               title  \\\n",
       "0  Donald Trump Speech Transcript at Greenville, ...   \n",
       "1  Donald Trump Cincinnati Rally Speech Transcrip...   \n",
       "2  Donald Trump New Hampshire Rally Transcript Au...   \n",
       "3  Donald Trump North Carolina Rally Transcript i...   \n",
       "4  Donald Trump New Mexico Rally Transcript: Full...   \n",
       "\n",
       "                                          transcript    year  month   day  \\\n",
       "0   \\nThank you very much. Thank you. Thank you. ...  2019.0    7.0  17.0   \n",
       "1   \\nThank you all. Thank you very much. Thank y...  2019.0    8.0   1.0   \n",
       "2   \\nThank you very much everybody. Thank you. W...  2019.0    8.0  15.0   \n",
       "3   \\nHello North Carolina! \\nTo Senator Tillis, ...  2019.0    9.0   9.0   \n",
       "4   \\nThank you. \\nWow, thank you. Thank you, New...  2019.0    9.0  16.0   \n",
       "\n",
       "  state   city/county city/county type note  \n",
       "0    NC   Greensville              red  NaN  \n",
       "1    OH    Cincinnati             blue  NaN  \n",
       "2    NH    Manchester             blue  NaN  \n",
       "3    NC  Fayetteville             blue  NaN  \n",
       "4    NM    Rio Rancho             blue  NaN  "
      ]
     },
     "execution_count": 28,
     "metadata": {},
     "output_type": "execute_result"
    }
   ],
   "source": [
    "trump_speeches.head()"
   ]
  },
  {
   "cell_type": "markdown",
   "metadata": {},
   "source": [
    "## Feature Engineering "
   ]
  },
  {
   "cell_type": "code",
   "execution_count": 29,
   "metadata": {},
   "outputs": [],
   "source": [
    "# group states by color\n",
    "swing_states = ['GA','NC','AZ','FL','IA','MI','NV','NH','OH','PA','TX','WI']\n",
    "blue = ['WA','OR','CA','CO','NM','HI','MN','IL','ME','NY','VA','VT','MA','RI',\n",
    "       'CT','NJ','DE','MD','DC']\n",
    "\n",
    "trump_speeches['state type'] = 'red state'\n",
    "trump_speeches.loc[trump_speeches['state'].isin(swing_states),'state type']='swing state'\n",
    "trump_speeches.loc[trump_speeches['state'].isin(blue),'state type']='blue state'\n"
   ]
  },
  {
   "cell_type": "code",
   "execution_count": 30,
   "metadata": {},
   "outputs": [
    {
     "data": {
      "text/plain": [
       "swing-blue    43\n",
       "swing-red     24\n",
       "blue state     9\n",
       "red state      7\n",
       "Name: state result, dtype: int64"
      ]
     },
     "execution_count": 30,
     "metadata": {},
     "output_type": "execute_result"
    }
   ],
   "source": [
    "trump_speeches['state result'] = trump_speeches['state type']\n",
    "trump_speeches.loc[trump_speeches['state'].isin(['GA','PA', 'AZ', 'MI','NV','NH','WI']) ,'state result'] = 'swing-blue'\n",
    "trump_speeches.loc[trump_speeches['state result'] =='swing state' ,'state result'] = 'swing-red'\n",
    "trump_speeches['state result'].value_counts()"
   ]
  },
  {
   "cell_type": "code",
   "execution_count": 31,
   "metadata": {},
   "outputs": [],
   "source": [
    "from nltk.tokenize import RegexpTokenizer, sent_tokenize\n",
    "\n",
    "\n",
    "trump_speeches['transcript'] = trump_speeches['transcript'].str.strip()\n",
    "\n",
    "#sentences of words in each speech\n",
    "word_tokenizer = RegexpTokenizer(r'\\w+')\n",
    "trump_speeches['word_tokens'] = trump_speeches['transcript'].apply(lambda x: word_tokenizer.tokenize(x))\n",
    "trump_speeches['# of words'] = trump_speeches['word_tokens'].apply(lambda x: len(x))\n",
    "\n",
    "#sentences in sentences in each speech\n",
    "\n",
    "trump_speeches['sentence_tokens'] = trump_speeches['transcript'].apply(lambda x: sent_tokenize(x))\n",
    "trump_speeches['# of sentences'] = trump_speeches['sentence_tokens'].apply(lambda x: len(x))\n",
    "trump_speeches['Average Sentence Length'] = trump_speeches['sentence_tokens'].apply(lambda x: np.mean(np.array([len(word_tokenizer.tokenize(s)) for s in x])))\n",
    "\n"
   ]
  },
  {
   "cell_type": "code",
   "execution_count": 32,
   "metadata": {},
   "outputs": [],
   "source": [
    "from vaderSentiment.vaderSentiment import SentimentIntensityAnalyzer\n",
    "\n",
    "analyzer = SentimentIntensityAnalyzer()\n",
    "\n",
    "trump_speeches['sentiment'] = trump_speeches['transcript'].apply(lambda x: analyzer.polarity_scores(x))\n",
    "trump_speeches['positive sentiment'] =trump_speeches['sentiment'].apply(lambda x: x['pos']) \n",
    "trump_speeches['neutral sentiment'] =trump_speeches['sentiment'].apply(lambda x: x['neu']) \n",
    "trump_speeches['negative sentiment'] =trump_speeches['sentiment'].apply(lambda x: x['neg'])\n",
    "trump_speeches['overall sentiment'] =trump_speeches['sentiment'].apply(lambda x: x['compound'])\n",
    "trump_speeches.drop(columns=['sentiment'],inplace=True)\n"
   ]
  },
  {
   "cell_type": "code",
   "execution_count": 202,
   "metadata": {},
   "outputs": [],
   "source": [
    "from nrclex import NRCLex\n",
    "trump_speeches['nrc'] = trump_speeches['transcript'].apply(lambda x: NRCLex(x))"
   ]
  },
  {
   "cell_type": "code",
   "execution_count": 203,
   "metadata": {},
   "outputs": [],
   "source": [
    "trump_speeches['fear'] = trump_speeches['nrc'].apply(lambda x: x.affect_frequencies['fear'])\n",
    "trump_speeches['anger'] = trump_speeches['nrc'].apply(lambda x: x.affect_frequencies['anger'])\n",
    "trump_speeches['anticipation'] = trump_speeches['nrc'].apply(lambda x: x.affect_frequencies['anticipation'])\n",
    "trump_speeches['trust'] = trump_speeches['nrc'].apply(lambda x: x.affect_frequencies['trust'])\n",
    "trump_speeches['surprise'] = trump_speeches['nrc'].apply(lambda x: x.affect_frequencies['surprise'])\n",
    "trump_speeches['positive'] = trump_speeches['nrc'].apply(lambda x: x.affect_frequencies['positive'])\n",
    "trump_speeches['negative'] = trump_speeches['nrc'].apply(lambda x: x.affect_frequencies['negative'])\n",
    "trump_speeches['sadness'] = trump_speeches['nrc'].apply(lambda x: x.affect_frequencies['sadness'])\n",
    "trump_speeches['disgust'] = trump_speeches['nrc'].apply(lambda x: x.affect_frequencies['disgust'])\n",
    "trump_speeches['joy'] = trump_speeches['nrc'].apply(lambda x: x.affect_frequencies['joy'])"
   ]
  },
  {
   "cell_type": "code",
   "execution_count": 205,
   "metadata": {},
   "outputs": [],
   "source": [
    "trump_speeches['top emotions'] = trump_speeches['nrc'].apply(lambda x: x.top_emotions)"
   ]
  },
  {
   "cell_type": "code",
   "execution_count": 220,
   "metadata": {},
   "outputs": [
    {
     "data": {
      "text/plain": [
       "positive    83\n",
       "Name: top emotions, dtype: int64"
      ]
     },
     "execution_count": 220,
     "metadata": {},
     "output_type": "execute_result"
    }
   ],
   "source": [
    "trump_speeches['top emotions'].str[0].str[0].value_counts()"
   ]
  },
  {
   "cell_type": "code",
   "execution_count": 37,
   "metadata": {},
   "outputs": [],
   "source": [
    "trump_speeches.to_csv(\"trump_speeches_v4.csv\")"
   ]
  },
  {
   "cell_type": "code",
   "execution_count": 58,
   "metadata": {},
   "outputs": [
    {
     "data": {
      "text/plain": [
       "83"
      ]
     },
     "execution_count": 58,
     "metadata": {},
     "output_type": "execute_result"
    }
   ],
   "source": [
    "trump_speeches= pd.read_csv(\"trump_speeches_v4.csv\")\n",
    "len(trump_speeches)"
   ]
  },
  {
   "cell_type": "markdown",
   "metadata": {},
   "source": [
    "## EDA"
   ]
  },
  {
   "cell_type": "markdown",
   "metadata": {},
   "source": [
    "### Speech by Location"
   ]
  },
  {
   "cell_type": "code",
   "execution_count": 193,
   "metadata": {},
   "outputs": [
    {
     "data": {
      "text/plain": [
       "23"
      ]
     },
     "execution_count": 193,
     "metadata": {},
     "output_type": "execute_result"
    }
   ],
   "source": [
    "trump_speeches['state'].nunique()"
   ]
  },
  {
   "cell_type": "code",
   "execution_count": 197,
   "metadata": {},
   "outputs": [
    {
     "data": {
      "text/plain": [
       "77"
      ]
     },
     "execution_count": 197,
     "metadata": {},
     "output_type": "execute_result"
    }
   ],
   "source": [
    "trump_speeches['city/county'].nunique()"
   ]
  },
  {
   "cell_type": "code",
   "execution_count": 98,
   "metadata": {},
   "outputs": [
    {
     "data": {
      "text/plain": [
       "swing-blue    43\n",
       "swing-red     24\n",
       "blue state     9\n",
       "red state      7\n",
       "Name: state result, dtype: int64"
      ]
     },
     "execution_count": 98,
     "metadata": {},
     "output_type": "execute_result"
    }
   ],
   "source": [
    "trump_speeches['state result'].value_counts() #goodness of fit -> significant."
   ]
  },
  {
   "cell_type": "code",
   "execution_count": 99,
   "metadata": {},
   "outputs": [
    {
     "data": {
      "text/plain": [
       "blue    49\n",
       "red     34\n",
       "Name: city/county type, dtype: int64"
      ]
     },
     "execution_count": 99,
     "metadata": {},
     "output_type": "execute_result"
    }
   ],
   "source": [
    "trump_speeches['city/county type'].value_counts() "
   ]
  },
  {
   "cell_type": "code",
   "execution_count": 62,
   "metadata": {},
   "outputs": [
    {
     "data": {
      "text/plain": [
       "state type   city/county type\n",
       "blue state   blue                 6\n",
       "             red                  3\n",
       "red state    blue                 4\n",
       "             red                  3\n",
       "swing state  blue                39\n",
       "             red                 28\n",
       "Name: transcript, dtype: int64"
      ]
     },
     "execution_count": 62,
     "metadata": {},
     "output_type": "execute_result"
    }
   ],
   "source": [
    "trump_speeches.groupby(['state type','city/county type'])['transcript'].count()"
   ]
  },
  {
   "cell_type": "code",
   "execution_count": 65,
   "metadata": {},
   "outputs": [
    {
     "data": {
      "text/plain": [
       "state result  city/county type\n",
       "blue state    blue                 6\n",
       "              red                  3\n",
       "red state     blue                 4\n",
       "              red                  3\n",
       "swing-blue    blue                24\n",
       "              red                 19\n",
       "swing-red     blue                15\n",
       "              red                  9\n",
       "Name: transcript, dtype: int64"
      ]
     },
     "execution_count": 65,
     "metadata": {},
     "output_type": "execute_result"
    }
   ],
   "source": [
    "trump_speeches.groupby(['state result','city/county type'])['transcript'].count()"
   ]
  },
  {
   "cell_type": "markdown",
   "metadata": {},
   "source": [
    "### Length"
   ]
  },
  {
   "cell_type": "markdown",
   "metadata": {},
   "source": [
    "#### Average number of sentences"
   ]
  },
  {
   "cell_type": "code",
   "execution_count": 72,
   "metadata": {},
   "outputs": [
    {
     "data": {
      "text/plain": [
       "state result\n",
       "blue state   -0.157022\n",
       "red state    -0.216261\n",
       "swing-blue   -0.450389\n",
       "swing-red     1.516924\n",
       "Name: # of sentences, dtype: float64"
      ]
     },
     "execution_count": 72,
     "metadata": {},
     "output_type": "execute_result"
    }
   ],
   "source": [
    "from scipy.stats import kurtosis \n",
    "trump_speeches['# of sentences'].groupby(trump_speeches['state result']).apply(kurtosis)"
   ]
  },
  {
   "cell_type": "code",
   "execution_count": 73,
   "metadata": {},
   "outputs": [
    {
     "data": {
      "text/plain": [
       "state result\n",
       "blue state    1012\n",
       "red state     1057\n",
       "swing-blue    1033\n",
       "swing-red      967\n",
       "Name: # of sentences, dtype: int64"
      ]
     },
     "execution_count": 73,
     "metadata": {},
     "output_type": "execute_result"
    }
   ],
   "source": [
    "trump_speeches['# of sentences'].groupby(trump_speeches['state result']).median() #kruskal.test -> not significant"
   ]
  },
  {
   "cell_type": "code",
   "execution_count": 76,
   "metadata": {},
   "outputs": [
    {
     "data": {
      "text/plain": [
       "state result  city/county type\n",
       "blue state    blue               -1.575992\n",
       "              red                -1.500000\n",
       "red state     blue               -1.236670\n",
       "              red                -1.500000\n",
       "swing-blue    blue               -0.821833\n",
       "              red                -0.328164\n",
       "swing-red     blue                1.261254\n",
       "              red                 0.499422\n",
       "Name: # of sentences, dtype: float64"
      ]
     },
     "execution_count": 76,
     "metadata": {},
     "output_type": "execute_result"
    }
   ],
   "source": [
    "trump_speeches['# of sentences'].groupby([trump_speeches['state result'],trump_speeches['city/county type'] ]).apply(kurtosis)"
   ]
  },
  {
   "cell_type": "code",
   "execution_count": 77,
   "metadata": {},
   "outputs": [
    {
     "data": {
      "text/plain": [
       "state result  city/county type\n",
       "blue state    blue                 888.5\n",
       "              red                 1195.0\n",
       "red state     blue                 969.0\n",
       "              red                 1118.0\n",
       "swing-blue    blue                1008.0\n",
       "              red                 1072.0\n",
       "swing-red     blue                 948.0\n",
       "              red                  972.0\n",
       "Name: # of sentences, dtype: float64"
      ]
     },
     "execution_count": 77,
     "metadata": {},
     "output_type": "execute_result"
    }
   ],
   "source": [
    "trump_speeches['# of sentences'].groupby([trump_speeches['state result'],trump_speeches['city/county type'] ]).median()"
   ]
  },
  {
   "cell_type": "code",
   "execution_count": 221,
   "metadata": {},
   "outputs": [
    {
     "data": {
      "text/plain": [
       "city/county type\n",
       "blue     995.877551\n",
       "red     1081.970588\n",
       "Name: # of sentences, dtype: float64"
      ]
     },
     "execution_count": 221,
     "metadata": {},
     "output_type": "execute_result"
    }
   ],
   "source": [
    "trump_speeches['# of sentences'].groupby(trump_speeches['city/county type']).mean()\n"
   ]
  },
  {
   "cell_type": "markdown",
   "metadata": {},
   "source": [
    "#### Average number of words"
   ]
  },
  {
   "cell_type": "code",
   "execution_count": 297,
   "metadata": {},
   "outputs": [
    {
     "data": {
      "text/plain": [
       "state result\n",
       "blue state    11909\n",
       "red state     10404\n",
       "swing-blue    10695\n",
       "swing-red     11168\n",
       "Name: # of words, dtype: int64"
      ]
     },
     "execution_count": 297,
     "metadata": {},
     "output_type": "execute_result"
    }
   ],
   "source": [
    "trump_speeches['# of words'].groupby(trump_speeches['state result']).median()#kruskal.test -> not significant"
   ]
  },
  {
   "cell_type": "code",
   "execution_count": 298,
   "metadata": {},
   "outputs": [
    {
     "data": {
      "text/plain": [
       "state type   city/county type\n",
       "blue state   blue                 9771.0\n",
       "             red                 12725.0\n",
       "red state    blue                 9382.0\n",
       "             red                 11884.5\n",
       "swing state  blue                10857.0\n",
       "             red                 10714.0\n",
       "Name: # of words, dtype: float64"
      ]
     },
     "execution_count": 298,
     "metadata": {},
     "output_type": "execute_result"
    }
   ],
   "source": [
    "trump_speeches['# of words'].groupby([trump_speeches['state type'],trump_speeches['city/county type'] ]).median()"
   ]
  },
  {
   "cell_type": "code",
   "execution_count": 222,
   "metadata": {},
   "outputs": [
    {
     "data": {
      "text/plain": [
       "state result  city/county type\n",
       "blue state    blue                 9771\n",
       "              red                 12725\n",
       "red state     blue                 9893\n",
       "              red                 13351\n",
       "swing-blue    blue                10776\n",
       "              red                 10635\n",
       "swing-red     blue                11140\n",
       "              red                 11196\n",
       "Name: # of words, dtype: int64"
      ]
     },
     "execution_count": 222,
     "metadata": {},
     "output_type": "execute_result"
    }
   ],
   "source": [
    "trump_speeches['# of words'].groupby([trump_speeches['state result'],trump_speeches['city/county type'] ]).median()"
   ]
  },
  {
   "cell_type": "code",
   "execution_count": 223,
   "metadata": {},
   "outputs": [
    {
     "data": {
      "text/plain": [
       "city/county type\n",
       "blue    10722.591837\n",
       "red     11542.735294\n",
       "Name: # of words, dtype: float64"
      ]
     },
     "execution_count": 223,
     "metadata": {},
     "output_type": "execute_result"
    }
   ],
   "source": [
    "trump_speeches['# of words'].groupby(trump_speeches['city/county type']).mean()\n"
   ]
  },
  {
   "cell_type": "markdown",
   "metadata": {},
   "source": [
    "#### Average sentence length"
   ]
  },
  {
   "cell_type": "code",
   "execution_count": 226,
   "metadata": {},
   "outputs": [
    {
     "data": {
      "text/plain": [
       "state result\n",
       "blue state    11.188679\n",
       "red state     10.943277\n",
       "swing-blue    10.328016\n",
       "swing-red     10.818677\n",
       "Name: Average Sentence Length, dtype: float64"
      ]
     },
     "execution_count": 226,
     "metadata": {},
     "output_type": "execute_result"
    }
   ],
   "source": [
    "trump_speeches['Average Sentence Length'].groupby(trump_speeches['state result']).median() #kruskal.test -> not significant"
   ]
  },
  {
   "cell_type": "code",
   "execution_count": 227,
   "metadata": {},
   "outputs": [
    {
     "data": {
      "text/plain": [
       "city/county type\n",
       "blue    10.565531\n",
       "red     10.584756\n",
       "Name: Average Sentence Length, dtype: float64"
      ]
     },
     "execution_count": 227,
     "metadata": {},
     "output_type": "execute_result"
    }
   ],
   "source": [
    "trump_speeches['Average Sentence Length'].groupby(trump_speeches['city/county type']).median() #kruskal.test -> not significant"
   ]
  },
  {
   "cell_type": "code",
   "execution_count": 302,
   "metadata": {},
   "outputs": [
    {
     "data": {
      "text/plain": [
       "state type   city/county type\n",
       "blue state   blue                11.349320\n",
       "             red                 10.648536\n",
       "red state    blue                10.417460\n",
       "             red                 11.442569\n",
       "swing state  blue                10.553678\n",
       "             red                 10.493728\n",
       "Name: Average Sentence Length, dtype: float64"
      ]
     },
     "execution_count": 302,
     "metadata": {},
     "output_type": "execute_result"
    }
   ],
   "source": [
    "trump_speeches['Average Sentence Length'].groupby([trump_speeches['state type'],trump_speeches['city/county type'] ]).median()"
   ]
  },
  {
   "cell_type": "code",
   "execution_count": 224,
   "metadata": {},
   "outputs": [
    {
     "data": {
      "text/plain": [
       "state result  city/county type\n",
       "blue state    blue                11.349320\n",
       "              red                 10.648536\n",
       "red state     blue                10.533361\n",
       "              red                 11.941860\n",
       "swing-blue    blue                10.305623\n",
       "              red                 10.453505\n",
       "swing-red     blue                10.960957\n",
       "              red                 10.533951\n",
       "Name: Average Sentence Length, dtype: float64"
      ]
     },
     "execution_count": 224,
     "metadata": {},
     "output_type": "execute_result"
    }
   ],
   "source": [
    "trump_speeches['Average Sentence Length'].groupby([trump_speeches['state result'],trump_speeches['city/county type'] ]).median()"
   ]
  },
  {
   "cell_type": "code",
   "execution_count": 225,
   "metadata": {},
   "outputs": [
    {
     "data": {
      "text/plain": [
       "state result  city/county type\n",
       "blue state    blue               -1.452798\n",
       "              red                -1.500000\n",
       "red state     blue               -1.114303\n",
       "              red                -1.500000\n",
       "swing-blue    blue                1.381459\n",
       "              red                -0.668184\n",
       "swing-red     blue               -0.258068\n",
       "              red                 1.610850\n",
       "Name: Average Sentence Length, dtype: float64"
      ]
     },
     "execution_count": 225,
     "metadata": {},
     "output_type": "execute_result"
    }
   ],
   "source": [
    "trump_speeches['Average Sentence Length'].groupby([trump_speeches['state result'],trump_speeches['city/county type'] ]).apply(kurtosis)"
   ]
  },
  {
   "cell_type": "markdown",
   "metadata": {},
   "source": [
    "## Emotion Analysis"
   ]
  },
  {
   "cell_type": "code",
   "execution_count": 92,
   "metadata": {},
   "outputs": [
    {
     "data": {
      "text/html": [
       "<div>\n",
       "<style scoped>\n",
       "    .dataframe tbody tr th:only-of-type {\n",
       "        vertical-align: middle;\n",
       "    }\n",
       "\n",
       "    .dataframe tbody tr th {\n",
       "        vertical-align: top;\n",
       "    }\n",
       "\n",
       "    .dataframe thead th {\n",
       "        text-align: right;\n",
       "    }\n",
       "</style>\n",
       "<table border=\"1\" class=\"dataframe\">\n",
       "  <thead>\n",
       "    <tr style=\"text-align: right;\">\n",
       "      <th></th>\n",
       "      <th>fear</th>\n",
       "      <th>anger</th>\n",
       "      <th>anticipation</th>\n",
       "      <th>trust</th>\n",
       "      <th>surprise</th>\n",
       "      <th>positive</th>\n",
       "      <th>negative</th>\n",
       "      <th>sadness</th>\n",
       "      <th>disgust</th>\n",
       "      <th>joy</th>\n",
       "    </tr>\n",
       "    <tr>\n",
       "      <th>state result</th>\n",
       "      <th></th>\n",
       "      <th></th>\n",
       "      <th></th>\n",
       "      <th></th>\n",
       "      <th></th>\n",
       "      <th></th>\n",
       "      <th></th>\n",
       "      <th></th>\n",
       "      <th></th>\n",
       "      <th></th>\n",
       "    </tr>\n",
       "  </thead>\n",
       "  <tbody>\n",
       "    <tr>\n",
       "      <th>blue state</th>\n",
       "      <td>0.079188</td>\n",
       "      <td>0.077225</td>\n",
       "      <td>0.095533</td>\n",
       "      <td>0.148044</td>\n",
       "      <td>0.052356</td>\n",
       "      <td>0.202035</td>\n",
       "      <td>0.135174</td>\n",
       "      <td>0.074074</td>\n",
       "      <td>0.049084</td>\n",
       "      <td>0.084767</td>\n",
       "    </tr>\n",
       "    <tr>\n",
       "      <th>red state</th>\n",
       "      <td>0.083297</td>\n",
       "      <td>0.079924</td>\n",
       "      <td>0.095056</td>\n",
       "      <td>0.138974</td>\n",
       "      <td>0.053273</td>\n",
       "      <td>0.191984</td>\n",
       "      <td>0.140992</td>\n",
       "      <td>0.079169</td>\n",
       "      <td>0.052944</td>\n",
       "      <td>0.080303</td>\n",
       "    </tr>\n",
       "    <tr>\n",
       "      <th>swing-blue</th>\n",
       "      <td>0.081278</td>\n",
       "      <td>0.076350</td>\n",
       "      <td>0.096215</td>\n",
       "      <td>0.146322</td>\n",
       "      <td>0.054226</td>\n",
       "      <td>0.201496</td>\n",
       "      <td>0.134529</td>\n",
       "      <td>0.076350</td>\n",
       "      <td>0.044654</td>\n",
       "      <td>0.085040</td>\n",
       "    </tr>\n",
       "    <tr>\n",
       "      <th>swing-red</th>\n",
       "      <td>0.080593</td>\n",
       "      <td>0.076117</td>\n",
       "      <td>0.103731</td>\n",
       "      <td>0.146241</td>\n",
       "      <td>0.053419</td>\n",
       "      <td>0.206005</td>\n",
       "      <td>0.132469</td>\n",
       "      <td>0.073825</td>\n",
       "      <td>0.045534</td>\n",
       "      <td>0.085197</td>\n",
       "    </tr>\n",
       "  </tbody>\n",
       "</table>\n",
       "</div>"
      ],
      "text/plain": [
       "                  fear     anger  anticipation     trust  surprise  positive  \\\n",
       "state result                                                                   \n",
       "blue state    0.079188  0.077225      0.095533  0.148044  0.052356  0.202035   \n",
       "red state     0.083297  0.079924      0.095056  0.138974  0.053273  0.191984   \n",
       "swing-blue    0.081278  0.076350      0.096215  0.146322  0.054226  0.201496   \n",
       "swing-red     0.080593  0.076117      0.103731  0.146241  0.053419  0.206005   \n",
       "\n",
       "              negative   sadness   disgust       joy  \n",
       "state result                                          \n",
       "blue state    0.135174  0.074074  0.049084  0.084767  \n",
       "red state     0.140992  0.079169  0.052944  0.080303  \n",
       "swing-blue    0.134529  0.076350  0.044654  0.085040  \n",
       "swing-red     0.132469  0.073825  0.045534  0.085197  "
      ]
     },
     "execution_count": 92,
     "metadata": {},
     "output_type": "execute_result"
    }
   ],
   "source": [
    "trump_speeches.groupby(['state result'])[['fear','anger','anticipation','trust','surprise','positive','negative','sadness','disgust','joy']].median()"
   ]
  },
  {
   "cell_type": "code",
   "execution_count": 93,
   "metadata": {},
   "outputs": [
    {
     "data": {
      "text/html": [
       "<div>\n",
       "<style scoped>\n",
       "    .dataframe tbody tr th:only-of-type {\n",
       "        vertical-align: middle;\n",
       "    }\n",
       "\n",
       "    .dataframe tbody tr th {\n",
       "        vertical-align: top;\n",
       "    }\n",
       "\n",
       "    .dataframe thead th {\n",
       "        text-align: right;\n",
       "    }\n",
       "</style>\n",
       "<table border=\"1\" class=\"dataframe\">\n",
       "  <thead>\n",
       "    <tr style=\"text-align: right;\">\n",
       "      <th></th>\n",
       "      <th>fear</th>\n",
       "      <th>anger</th>\n",
       "      <th>anticipation</th>\n",
       "      <th>trust</th>\n",
       "      <th>surprise</th>\n",
       "      <th>positive</th>\n",
       "      <th>negative</th>\n",
       "      <th>sadness</th>\n",
       "      <th>disgust</th>\n",
       "      <th>joy</th>\n",
       "    </tr>\n",
       "    <tr>\n",
       "      <th>city/county type</th>\n",
       "      <th></th>\n",
       "      <th></th>\n",
       "      <th></th>\n",
       "      <th></th>\n",
       "      <th></th>\n",
       "      <th></th>\n",
       "      <th></th>\n",
       "      <th></th>\n",
       "      <th></th>\n",
       "      <th></th>\n",
       "    </tr>\n",
       "  </thead>\n",
       "  <tbody>\n",
       "    <tr>\n",
       "      <th>blue</th>\n",
       "      <td>0.081081</td>\n",
       "      <td>0.076799</td>\n",
       "      <td>0.096832</td>\n",
       "      <td>0.145415</td>\n",
       "      <td>0.052775</td>\n",
       "      <td>0.199235</td>\n",
       "      <td>0.135080</td>\n",
       "      <td>0.074524</td>\n",
       "      <td>0.047237</td>\n",
       "      <td>0.082364</td>\n",
       "    </tr>\n",
       "    <tr>\n",
       "      <th>red</th>\n",
       "      <td>0.081643</td>\n",
       "      <td>0.076310</td>\n",
       "      <td>0.097132</td>\n",
       "      <td>0.146445</td>\n",
       "      <td>0.054290</td>\n",
       "      <td>0.202539</td>\n",
       "      <td>0.133794</td>\n",
       "      <td>0.076236</td>\n",
       "      <td>0.044923</td>\n",
       "      <td>0.085917</td>\n",
       "    </tr>\n",
       "  </tbody>\n",
       "</table>\n",
       "</div>"
      ],
      "text/plain": [
       "                      fear     anger  anticipation     trust  surprise  \\\n",
       "city/county type                                                         \n",
       "blue              0.081081  0.076799      0.096832  0.145415  0.052775   \n",
       "red               0.081643  0.076310      0.097132  0.146445  0.054290   \n",
       "\n",
       "                  positive  negative   sadness   disgust       joy  \n",
       "city/county type                                                    \n",
       "blue              0.199235  0.135080  0.074524  0.047237  0.082364  \n",
       "red               0.202539  0.133794  0.076236  0.044923  0.085917  "
      ]
     },
     "execution_count": 93,
     "metadata": {},
     "output_type": "execute_result"
    }
   ],
   "source": [
    "trump_speeches.groupby(['city/county type'])[['fear','anger','anticipation','trust','surprise','positive','negative','sadness','disgust','joy']].median()"
   ]
  },
  {
   "cell_type": "code",
   "execution_count": 319,
   "metadata": {},
   "outputs": [
    {
     "data": {
      "text/html": [
       "<div>\n",
       "<style scoped>\n",
       "    .dataframe tbody tr th:only-of-type {\n",
       "        vertical-align: middle;\n",
       "    }\n",
       "\n",
       "    .dataframe tbody tr th {\n",
       "        vertical-align: top;\n",
       "    }\n",
       "\n",
       "    .dataframe thead th {\n",
       "        text-align: right;\n",
       "    }\n",
       "</style>\n",
       "<table border=\"1\" class=\"dataframe\">\n",
       "  <thead>\n",
       "    <tr style=\"text-align: right;\">\n",
       "      <th></th>\n",
       "      <th></th>\n",
       "      <th>fear</th>\n",
       "      <th>anger</th>\n",
       "      <th>anticipation</th>\n",
       "      <th>trust</th>\n",
       "      <th>surprise</th>\n",
       "      <th>positive</th>\n",
       "      <th>negative</th>\n",
       "      <th>sadness</th>\n",
       "      <th>disgust</th>\n",
       "      <th>joy</th>\n",
       "    </tr>\n",
       "    <tr>\n",
       "      <th>state result</th>\n",
       "      <th>city/county type</th>\n",
       "      <th></th>\n",
       "      <th></th>\n",
       "      <th></th>\n",
       "      <th></th>\n",
       "      <th></th>\n",
       "      <th></th>\n",
       "      <th></th>\n",
       "      <th></th>\n",
       "      <th></th>\n",
       "      <th></th>\n",
       "    </tr>\n",
       "  </thead>\n",
       "  <tbody>\n",
       "    <tr>\n",
       "      <th rowspan=\"2\" valign=\"top\">blue state</th>\n",
       "      <th>blue</th>\n",
       "      <td>0.080135</td>\n",
       "      <td>0.077310</td>\n",
       "      <td>0.095655</td>\n",
       "      <td>0.147181</td>\n",
       "      <td>0.050645</td>\n",
       "      <td>0.199344</td>\n",
       "      <td>0.138840</td>\n",
       "      <td>0.077735</td>\n",
       "      <td>0.045860</td>\n",
       "      <td>0.082664</td>\n",
       "    </tr>\n",
       "    <tr>\n",
       "      <th>red</th>\n",
       "      <td>0.078991</td>\n",
       "      <td>0.073934</td>\n",
       "      <td>0.095533</td>\n",
       "      <td>0.149899</td>\n",
       "      <td>0.052936</td>\n",
       "      <td>0.208466</td>\n",
       "      <td>0.133168</td>\n",
       "      <td>0.072195</td>\n",
       "      <td>0.049214</td>\n",
       "      <td>0.086692</td>\n",
       "    </tr>\n",
       "    <tr>\n",
       "      <th rowspan=\"2\" valign=\"top\">red state</th>\n",
       "      <th>blue</th>\n",
       "      <td>0.083622</td>\n",
       "      <td>0.078474</td>\n",
       "      <td>0.099956</td>\n",
       "      <td>0.139535</td>\n",
       "      <td>0.056903</td>\n",
       "      <td>0.191984</td>\n",
       "      <td>0.137061</td>\n",
       "      <td>0.079169</td>\n",
       "      <td>0.052944</td>\n",
       "      <td>0.079790</td>\n",
       "    </tr>\n",
       "    <tr>\n",
       "      <th>red</th>\n",
       "      <td>0.082949</td>\n",
       "      <td>0.080164</td>\n",
       "      <td>0.088215</td>\n",
       "      <td>0.139916</td>\n",
       "      <td>0.051441</td>\n",
       "      <td>0.194926</td>\n",
       "      <td>0.144138</td>\n",
       "      <td>0.076900</td>\n",
       "      <td>0.055661</td>\n",
       "      <td>0.085691</td>\n",
       "    </tr>\n",
       "    <tr>\n",
       "      <th rowspan=\"2\" valign=\"top\">swing-blue</th>\n",
       "      <th>blue</th>\n",
       "      <td>0.081288</td>\n",
       "      <td>0.075738</td>\n",
       "      <td>0.093941</td>\n",
       "      <td>0.146853</td>\n",
       "      <td>0.052806</td>\n",
       "      <td>0.199870</td>\n",
       "      <td>0.134553</td>\n",
       "      <td>0.075379</td>\n",
       "      <td>0.045029</td>\n",
       "      <td>0.083914</td>\n",
       "    </tr>\n",
       "    <tr>\n",
       "      <th>red</th>\n",
       "      <td>0.080605</td>\n",
       "      <td>0.077198</td>\n",
       "      <td>0.096394</td>\n",
       "      <td>0.145917</td>\n",
       "      <td>0.056003</td>\n",
       "      <td>0.201636</td>\n",
       "      <td>0.134420</td>\n",
       "      <td>0.077208</td>\n",
       "      <td>0.043199</td>\n",
       "      <td>0.085106</td>\n",
       "    </tr>\n",
       "    <tr>\n",
       "      <th rowspan=\"2\" valign=\"top\">swing-red</th>\n",
       "      <th>blue</th>\n",
       "      <td>0.080703</td>\n",
       "      <td>0.077343</td>\n",
       "      <td>0.097910</td>\n",
       "      <td>0.145415</td>\n",
       "      <td>0.053935</td>\n",
       "      <td>0.200397</td>\n",
       "      <td>0.133441</td>\n",
       "      <td>0.074502</td>\n",
       "      <td>0.047761</td>\n",
       "      <td>0.083097</td>\n",
       "    </tr>\n",
       "    <tr>\n",
       "      <th>red</th>\n",
       "      <td>0.080483</td>\n",
       "      <td>0.073834</td>\n",
       "      <td>0.104679</td>\n",
       "      <td>0.146973</td>\n",
       "      <td>0.052903</td>\n",
       "      <td>0.206464</td>\n",
       "      <td>0.128270</td>\n",
       "      <td>0.073324</td>\n",
       "      <td>0.041016</td>\n",
       "      <td>0.089395</td>\n",
       "    </tr>\n",
       "  </tbody>\n",
       "</table>\n",
       "</div>"
      ],
      "text/plain": [
       "                                   fear     anger  anticipation     trust  \\\n",
       "state result city/county type                                               \n",
       "blue state   blue              0.080135  0.077310      0.095655  0.147181   \n",
       "             red               0.078991  0.073934      0.095533  0.149899   \n",
       "red state    blue              0.083622  0.078474      0.099956  0.139535   \n",
       "             red               0.082949  0.080164      0.088215  0.139916   \n",
       "swing-blue   blue              0.081288  0.075738      0.093941  0.146853   \n",
       "             red               0.080605  0.077198      0.096394  0.145917   \n",
       "swing-red    blue              0.080703  0.077343      0.097910  0.145415   \n",
       "             red               0.080483  0.073834      0.104679  0.146973   \n",
       "\n",
       "                               surprise  positive  negative   sadness  \\\n",
       "state result city/county type                                           \n",
       "blue state   blue              0.050645  0.199344  0.138840  0.077735   \n",
       "             red               0.052936  0.208466  0.133168  0.072195   \n",
       "red state    blue              0.056903  0.191984  0.137061  0.079169   \n",
       "             red               0.051441  0.194926  0.144138  0.076900   \n",
       "swing-blue   blue              0.052806  0.199870  0.134553  0.075379   \n",
       "             red               0.056003  0.201636  0.134420  0.077208   \n",
       "swing-red    blue              0.053935  0.200397  0.133441  0.074502   \n",
       "             red               0.052903  0.206464  0.128270  0.073324   \n",
       "\n",
       "                                disgust       joy  \n",
       "state result city/county type                      \n",
       "blue state   blue              0.045860  0.082664  \n",
       "             red               0.049214  0.086692  \n",
       "red state    blue              0.052944  0.079790  \n",
       "             red               0.055661  0.085691  \n",
       "swing-blue   blue              0.045029  0.083914  \n",
       "             red               0.043199  0.085106  \n",
       "swing-red    blue              0.047761  0.083097  \n",
       "             red               0.041016  0.089395  "
      ]
     },
     "execution_count": 319,
     "metadata": {},
     "output_type": "execute_result"
    }
   ],
   "source": [
    "trump_speeches.groupby([trump_speeches['state result'],trump_speeches['city/county type'] ])[['fear','anger','anticipation','trust','surprise','positive','negative','sadness','disgust','joy']].median()"
   ]
  },
  {
   "cell_type": "markdown",
   "metadata": {},
   "source": [
    "## Entity Recognition\n",
    "\n",
    "\n",
    "- Biden\n"
   ]
  },
  {
   "cell_type": "code",
   "execution_count": 83,
   "metadata": {},
   "outputs": [],
   "source": [
    "import re\n",
    "trump_speeches['mention biden']= trump_speeches['transcript'].str.lower().apply(lambda x: re.findall('joe biden|joe|biden', x)).str.len()\n"
   ]
  },
  {
   "cell_type": "code",
   "execution_count": 153,
   "metadata": {},
   "outputs": [
    {
     "data": {
      "text/plain": [
       "state result\n",
       "blue state    19.333333\n",
       "red state     27.714286\n",
       "swing-blue    38.790698\n",
       "swing-red     29.791667\n",
       "Name: mention biden, dtype: float64"
      ]
     },
     "execution_count": 153,
     "metadata": {},
     "output_type": "execute_result"
    }
   ],
   "source": [
    "trump_speeches.groupby(['state result'])['mention biden'].mean()"
   ]
  },
  {
   "cell_type": "code",
   "execution_count": 154,
   "metadata": {},
   "outputs": [
    {
     "data": {
      "text/plain": [
       "city/county type\n",
       "blue    29.265306\n",
       "red     38.735294\n",
       "Name: mention biden, dtype: float64"
      ]
     },
     "execution_count": 154,
     "metadata": {},
     "output_type": "execute_result"
    }
   ],
   "source": [
    "trump_speeches.groupby(['city/county type'])['mention biden'].mean() #graph"
   ]
  },
  {
   "cell_type": "code",
   "execution_count": 155,
   "metadata": {},
   "outputs": [
    {
     "data": {
      "text/plain": [
       "state result  city/county type\n",
       "blue state    blue                16.833333\n",
       "              red                 24.333333\n",
       "red state     blue                18.000000\n",
       "              red                 40.666667\n",
       "swing-blue    blue                35.666667\n",
       "              red                 42.736842\n",
       "swing-red     blue                27.000000\n",
       "              red                 34.444444\n",
       "Name: mention biden, dtype: float64"
      ]
     },
     "execution_count": 155,
     "metadata": {},
     "output_type": "execute_result"
    }
   ],
   "source": [
    "trump_speeches['mention biden'].groupby([trump_speeches['state result'],trump_speeches['city/county type'] ]).mean()"
   ]
  },
  {
   "cell_type": "markdown",
   "metadata": {},
   "source": [
    "- trump"
   ]
  },
  {
   "cell_type": "code",
   "execution_count": 115,
   "metadata": {},
   "outputs": [],
   "source": [
    "trump_speeches['mention trump']= trump_speeches['transcript'].str.lower().apply(lambda x: re.findall('trump', x)).str.len()"
   ]
  },
  {
   "cell_type": "code",
   "execution_count": 156,
   "metadata": {},
   "outputs": [
    {
     "data": {
      "text/plain": [
       "state result\n",
       "blue state    16.111111\n",
       "red state     10.428571\n",
       "swing-blue    13.116279\n",
       "swing-red     11.083333\n",
       "Name: mention trump, dtype: float64"
      ]
     },
     "execution_count": 156,
     "metadata": {},
     "output_type": "execute_result"
    }
   ],
   "source": [
    "trump_speeches.groupby(['state result'])['mention trump'].mean()"
   ]
  },
  {
   "cell_type": "code",
   "execution_count": 157,
   "metadata": {},
   "outputs": [
    {
     "data": {
      "text/plain": [
       "city/county type\n",
       "blue    11.734694\n",
       "red     13.911765\n",
       "Name: mention trump, dtype: float64"
      ]
     },
     "execution_count": 157,
     "metadata": {},
     "output_type": "execute_result"
    }
   ],
   "source": [
    "trump_speeches.groupby(['city/county type'])['mention trump'].mean()"
   ]
  },
  {
   "cell_type": "code",
   "execution_count": 158,
   "metadata": {},
   "outputs": [
    {
     "data": {
      "text/plain": [
       "state result  city/county type\n",
       "blue state    blue                13.333333\n",
       "              red                 21.666667\n",
       "red state     blue                12.500000\n",
       "              red                  7.666667\n",
       "swing-blue    blue                11.916667\n",
       "              red                 14.631579\n",
       "swing-red     blue                10.600000\n",
       "              red                 11.888889\n",
       "Name: mention trump, dtype: float64"
      ]
     },
     "execution_count": 158,
     "metadata": {},
     "output_type": "execute_result"
    }
   ],
   "source": [
    "trump_speeches['mention trump'].groupby([trump_speeches['state result'],trump_speeches['city/county type'] ]).mean()"
   ]
  },
  {
   "cell_type": "markdown",
   "metadata": {},
   "source": [
    "- immigration"
   ]
  },
  {
   "cell_type": "code",
   "execution_count": 352,
   "metadata": {},
   "outputs": [],
   "source": [
    "trump_speeches['mention immigration']= trump_speeches['transcript'].str.lower().apply(lambda x: re.findall('immigration|immigrant|wall|border|illegal|alien', x)).str.len()\n"
   ]
  },
  {
   "cell_type": "code",
   "execution_count": 353,
   "metadata": {},
   "outputs": [
    {
     "data": {
      "text/plain": [
       "state result\n",
       "blue state    22.222222\n",
       "red state     31.142857\n",
       "swing-blue    24.906977\n",
       "swing-red     23.500000\n",
       "Name: mention immigration, dtype: float64"
      ]
     },
     "execution_count": 353,
     "metadata": {},
     "output_type": "execute_result"
    }
   ],
   "source": [
    "trump_speeches.groupby(['state result'])['mention immigration'].mean()"
   ]
  },
  {
   "cell_type": "code",
   "execution_count": 303,
   "metadata": {},
   "outputs": [
    {
     "data": {
      "text/plain": [
       "city/county type\n",
       "blue    24.163265\n",
       "red     19.705882\n",
       "Name: mention immigration, dtype: float64"
      ]
     },
     "execution_count": 303,
     "metadata": {},
     "output_type": "execute_result"
    }
   ],
   "source": [
    "trump_speeches.groupby(['city/county type'])['mention immigration'].mean()"
   ]
  },
  {
   "cell_type": "code",
   "execution_count": 164,
   "metadata": {},
   "outputs": [
    {
     "data": {
      "text/plain": [
       "state result  city/county type\n",
       "blue state    blue                1.333333\n",
       "              red                 2.000000\n",
       "red state     blue                3.750000\n",
       "              red                 1.666667\n",
       "swing-blue    blue                1.958333\n",
       "              red                 1.052632\n",
       "swing-red     blue                2.200000\n",
       "              red                 2.111111\n",
       "Name: mention immigration, dtype: float64"
      ]
     },
     "execution_count": 164,
     "metadata": {},
     "output_type": "execute_result"
    }
   ],
   "source": [
    "trump_speeches['mention immigration'].groupby([trump_speeches['state result'],trump_speeches['city/county type'] ]).mean()"
   ]
  },
  {
   "cell_type": "markdown",
   "metadata": {},
   "source": [
    "- economy"
   ]
  },
  {
   "cell_type": "code",
   "execution_count": 373,
   "metadata": {},
   "outputs": [],
   "source": [
    "trump_speeches['mention econ'] = trump_speeches['transcript'].str.lower().apply(lambda x: re.findall('economic|economy|oil|trade|company|business|tariff', x)).str.len()\n"
   ]
  },
  {
   "cell_type": "code",
   "execution_count": 355,
   "metadata": {},
   "outputs": [
    {
     "data": {
      "text/plain": [
       "state result\n",
       "blue state    12.444444\n",
       "red state     18.285714\n",
       "swing-blue    23.930233\n",
       "swing-red     16.500000\n",
       "Name: mention econ, dtype: float64"
      ]
     },
     "execution_count": 355,
     "metadata": {},
     "output_type": "execute_result"
    }
   ],
   "source": [
    "trump_speeches.groupby(['state result'])['mention econ'].mean() #1-way anova"
   ]
  },
  {
   "cell_type": "code",
   "execution_count": 358,
   "metadata": {},
   "outputs": [
    {
     "data": {
      "text/plain": [
       "city/county type\n",
       "blue    18.653061\n",
       "red     22.088235\n",
       "Name: mention econ, dtype: float64"
      ]
     },
     "execution_count": 358,
     "metadata": {},
     "output_type": "execute_result"
    }
   ],
   "source": [
    "trump_speeches.groupby(['city/county type'])['mention econ'].mean()"
   ]
  },
  {
   "cell_type": "code",
   "execution_count": 360,
   "metadata": {},
   "outputs": [
    {
     "data": {
      "text/plain": [
       "state result  city/county type\n",
       "blue state    blue                10.500000\n",
       "              red                 16.333333\n",
       "red state     blue                15.000000\n",
       "              red                 22.666667\n",
       "swing-blue    blue                22.000000\n",
       "              red                 26.368421\n",
       "swing-red     blue                17.533333\n",
       "              red                 14.777778\n",
       "Name: mention econ, dtype: float64"
      ]
     },
     "execution_count": 360,
     "metadata": {},
     "output_type": "execute_result"
    }
   ],
   "source": [
    "trump_speeches['mention econ'].groupby([trump_speeches['state result'],trump_speeches['city/county type'] ]).mean()"
   ]
  },
  {
   "cell_type": "markdown",
   "metadata": {},
   "source": [
    "- minority"
   ]
  },
  {
   "cell_type": "code",
   "execution_count": 347,
   "metadata": {},
   "outputs": [],
   "source": [
    "trump_speeches['mention minority'] = trump_speeches['transcript'].str.lower().apply(lambda x: re.findall('black|color|indian|hispanic|latino|minority', x)).str.len()"
   ]
  },
  {
   "cell_type": "code",
   "execution_count": 348,
   "metadata": {},
   "outputs": [
    {
     "data": {
      "text/plain": [
       "state result\n",
       "blue state    5.0\n",
       "red state     3.0\n",
       "swing-blue    6.0\n",
       "swing-red     5.5\n",
       "Name: mention minority, dtype: float64"
      ]
     },
     "execution_count": 348,
     "metadata": {},
     "output_type": "execute_result"
    }
   ],
   "source": [
    "trump_speeches.groupby(['state result'])['mention minority'].median() #1-way anova"
   ]
  },
  {
   "cell_type": "code",
   "execution_count": 349,
   "metadata": {},
   "outputs": [
    {
     "data": {
      "text/plain": [
       "city/county type\n",
       "blue    27\n",
       "red     37\n",
       "Name: mention minority, dtype: int64"
      ]
     },
     "execution_count": 349,
     "metadata": {},
     "output_type": "execute_result"
    }
   ],
   "source": [
    "trump_speeches.groupby(['city/county type'])['mention minority'].max()"
   ]
  },
  {
   "cell_type": "code",
   "execution_count": 362,
   "metadata": {},
   "outputs": [
    {
     "data": {
      "text/plain": [
       "state result  city/county type\n",
       "blue state    blue                12.333333\n",
       "              red                 14.333333\n",
       "red state     blue                 3.750000\n",
       "              red                  5.333333\n",
       "swing-blue    blue                 6.083333\n",
       "              red                  8.157895\n",
       "swing-red     blue                 5.666667\n",
       "              red                  5.555556\n",
       "Name: mention minority, dtype: float64"
      ]
     },
     "execution_count": 362,
     "metadata": {},
     "output_type": "execute_result"
    }
   ],
   "source": [
    "trump_speeches['mention minority'].groupby([trump_speeches['state result'],trump_speeches['city/county type'] ]).mean()"
   ]
  },
  {
   "cell_type": "markdown",
   "metadata": {},
   "source": [
    "- black"
   ]
  },
  {
   "cell_type": "code",
   "execution_count": 363,
   "metadata": {},
   "outputs": [],
   "source": [
    "trump_speeches['mention black'] = trump_speeches['transcript'].str.lower().apply(lambda x: re.findall('black', x)).str.len()"
   ]
  },
  {
   "cell_type": "code",
   "execution_count": 366,
   "metadata": {},
   "outputs": [
    {
     "data": {
      "text/plain": [
       "city/county type\n",
       "blue    0\n",
       "red     2\n",
       "Name: mention black, dtype: int64"
      ]
     },
     "execution_count": 366,
     "metadata": {},
     "output_type": "execute_result"
    }
   ],
   "source": [
    "trump_speeches.groupby(['city/county type'])['mention black'].median()"
   ]
  },
  {
   "cell_type": "markdown",
   "metadata": {},
   "source": [
    "- healthcare/COVID"
   ]
  },
  {
   "cell_type": "code",
   "execution_count": 375,
   "metadata": {},
   "outputs": [],
   "source": [
    "trump_speeches['mention healthcare'] = trump_speeches['transcript'].str.lower().apply(lambda x: re.findall('health|healthcare|vaccine|doctor|immune|test|virus|lockdown|covid|quarantine|save|patient', x)).str.len()\n"
   ]
  },
  {
   "cell_type": "code",
   "execution_count": 292,
   "metadata": {},
   "outputs": [
    {
     "data": {
      "text/plain": [
       "state result\n",
       "blue state    21.444444\n",
       "red state     35.571429\n",
       "swing-blue    36.093023\n",
       "swing-red     33.375000\n",
       "Name: mention healthcare, dtype: float64"
      ]
     },
     "execution_count": 292,
     "metadata": {},
     "output_type": "execute_result"
    }
   ],
   "source": [
    "trump_speeches.groupby(['state result'])['mention healthcare'].mean()"
   ]
  },
  {
   "cell_type": "code",
   "execution_count": 294,
   "metadata": {},
   "outputs": [
    {
     "data": {
      "text/plain": [
       "city/county type\n",
       "blue    32.204082\n",
       "red     35.794118\n",
       "Name: mention healthcare, dtype: float64"
      ]
     },
     "execution_count": 294,
     "metadata": {},
     "output_type": "execute_result"
    }
   ],
   "source": [
    "trump_speeches.groupby(['city/county type'])['mention healthcare'].mean()"
   ]
  },
  {
   "cell_type": "code",
   "execution_count": 295,
   "metadata": {},
   "outputs": [
    {
     "data": {
      "text/plain": [
       "state result  city/county type\n",
       "blue state    blue                17.333333\n",
       "              red                 29.666667\n",
       "red state     blue                38.000000\n",
       "              red                 32.333333\n",
       "swing-blue    blue                36.041667\n",
       "              red                 36.157895\n",
       "swing-red     blue                30.466667\n",
       "              red                 38.222222\n",
       "Name: mention healthcare, dtype: float64"
      ]
     },
     "execution_count": 295,
     "metadata": {},
     "output_type": "execute_result"
    }
   ],
   "source": [
    "trump_speeches['mention healthcare'].groupby([trump_speeches['state result'],trump_speeches['city/county type'] ]).mean()"
   ]
  },
  {
   "cell_type": "markdown",
   "metadata": {},
   "source": [
    "- election"
   ]
  },
  {
   "cell_type": "code",
   "execution_count": 368,
   "metadata": {},
   "outputs": [],
   "source": [
    "trump_speeches['mention election'] = trump_speeches['transcript'].str.lower().apply(lambda x: re.findall('ballot|nominate|endorse|vote|president|election|elect|biden|trump', x)).str.len()"
   ]
  },
  {
   "cell_type": "code",
   "execution_count": 306,
   "metadata": {},
   "outputs": [
    {
     "data": {
      "text/plain": [
       "state result\n",
       "blue state    15.222222\n",
       "red state     14.857143\n",
       "swing-blue    20.232558\n",
       "swing-red     15.333333\n",
       "Name: mention election, dtype: float64"
      ]
     },
     "execution_count": 306,
     "metadata": {},
     "output_type": "execute_result"
    }
   ],
   "source": [
    "trump_speeches.groupby(['state result'])['mention election'].mean()\n",
    "#1-way anova"
   ]
  },
  {
   "cell_type": "code",
   "execution_count": 308,
   "metadata": {},
   "outputs": [
    {
     "data": {
      "text/plain": [
       "city/county type\n",
       "blue    17.326531\n",
       "red     18.529412\n",
       "Name: mention election, dtype: float64"
      ]
     },
     "execution_count": 308,
     "metadata": {},
     "output_type": "execute_result"
    }
   ],
   "source": [
    "trump_speeches.groupby(['city/county type'])['mention election'].mean()"
   ]
  },
  {
   "cell_type": "code",
   "execution_count": 309,
   "metadata": {},
   "outputs": [
    {
     "data": {
      "text/plain": [
       "state result  city/county type\n",
       "blue state    blue                17.166667\n",
       "              red                 11.333333\n",
       "red state     blue                13.500000\n",
       "              red                 16.666667\n",
       "swing-blue    blue                18.916667\n",
       "              red                 21.894737\n",
       "swing-red     blue                15.866667\n",
       "              red                 14.444444\n",
       "Name: mention election, dtype: float64"
      ]
     },
     "execution_count": 309,
     "metadata": {},
     "output_type": "execute_result"
    }
   ],
   "source": [
    "trump_speeches['mention election'].groupby([trump_speeches['state result'],trump_speeches['city/county type'] ]).mean()\n"
   ]
  },
  {
   "cell_type": "code",
   "execution_count": 186,
   "metadata": {},
   "outputs": [],
   "source": [
    "trump_speeches.to_csv('trump_speeches_v5.csv')"
   ]
  },
  {
   "cell_type": "markdown",
   "metadata": {},
   "source": [
    "## Topic Modeling\n"
   ]
  },
  {
   "cell_type": "code",
   "execution_count": 100,
   "metadata": {},
   "outputs": [],
   "source": [
    "import spacy\n",
    "nlp = spacy.load('en')\n",
    "\n",
    "def pos(text):\n",
    "    newtxt =[]\n",
    "    doc = nlp(text)\n",
    "    for t in doc:\n",
    "        if t.pos_ in ['NOUN', 'ADJ', 'VERB','ADV']:\n",
    "            newtxt.append(t.lemma_)\n",
    "    return ' '.join(newtxt)\n"
   ]
  },
  {
   "cell_type": "code",
   "execution_count": 101,
   "metadata": {},
   "outputs": [
    {
     "data": {
      "text/plain": [
       "0    thank very much thank thank thank want thank h...\n",
       "1    thank thank very much thank know use work plac...\n",
       "2    thank very much thank will never ever let can ...\n",
       "3    member member amazing trump family thousand fe...\n",
       "4    thank thank thank thank love love incredible p...\n",
       "Name: lemmas, dtype: object"
      ]
     },
     "execution_count": 101,
     "metadata": {},
     "output_type": "execute_result"
    }
   ],
   "source": [
    "trump_speeches['lemmas'] = trump_speeches['transcript'].apply(lambda x: pos(x))\n",
    "trump_speeches['lemmas'].head()"
   ]
  },
  {
   "cell_type": "markdown",
   "metadata": {},
   "source": [
    "### NMF"
   ]
  },
  {
   "cell_type": "code",
   "execution_count": 103,
   "metadata": {},
   "outputs": [],
   "source": [
    "from sklearn.feature_extraction.text import TfidfVectorizer\n",
    "\n",
    "tv = TfidfVectorizer(stop_words='english', min_df=2, max_df=0.95)\n",
    "dtm2= tv.fit_transform(trump_speeches['lemmas'])"
   ]
  },
  {
   "cell_type": "code",
   "execution_count": 104,
   "metadata": {},
   "outputs": [
    {
     "data": {
      "text/plain": [
       "<83x3938 sparse matrix of type '<class 'numpy.float64'>'\n",
       "\twith 61730 stored elements in Compressed Sparse Row format>"
      ]
     },
     "execution_count": 104,
     "metadata": {},
     "output_type": "execute_result"
    }
   ],
   "source": [
    "dtm2"
   ]
  },
  {
   "cell_type": "code",
   "execution_count": 248,
   "metadata": {
    "scrolled": true
   },
   "outputs": [
    {
     "name": "stdout",
     "output_type": "stream",
     "text": [
      "Topic 0: half trend tomorrow corrupt black vaccine economy lockdown tech send crowd school fracke suburb ban young oil police establishment sleepy okay save debate peace lock foreign biden kidnap terrible super\n",
      "Topic 1: new party wall farmer unemployment alien republican illegal thousand sir doctor release include billion healthcare trade baby criminal abortion easy impeach tonight veteran company water folk late inaudible judge impeachment\n",
      "Topic 2: ballot police wall order nominate terrible statue governor night suburb ban school save send story include half new plane endorse sign different thousand football protest inaudible spend ad hit easy\n",
      "Topic 3: governor corrupt feel half fracke vaccine lid wall suburban school catch lock doctor crowd immune police ban save question raise normal laptop regulation test business plan new case virus company\n",
      "Topic 4: black community flare thousand bless 3rd class peaceful indian latino color police depend hispanic compromise burn vaccine shut donor middle worker freedom pro violent dispute vital bail spirit enrich anchor\n"
     ]
    }
   ],
   "source": [
    "from sklearn.decomposition import NMF\n",
    "\n",
    "model2 = NMF(n_components=5,random_state=100)\n",
    "model2.fit_transform(dtm2)\n",
    "n_words = 30\n",
    "feature_names2 = tv.get_feature_names()\n",
    "\n",
    "topic_list = []\n",
    "for topic_idx, topic in enumerate(model2.components_):\n",
    "    top_n = [feature_names2[i]\n",
    "             for i in topic.argsort()\n",
    "             [-n_words:]][::-1]\n",
    "    top_features = ' '.join(top_n)\n",
    "    topic_list.append(f\"topic_{'_'.join(top_n[:3])}\") \n",
    "\n",
    "    print(f\"Topic {topic_idx}: {top_features}\")\n"
   ]
  },
  {
   "cell_type": "code",
   "execution_count": 249,
   "metadata": {},
   "outputs": [],
   "source": [
    "doc_topic_matrix2 = model2.fit_transform(dtm2)"
   ]
  },
  {
   "cell_type": "code",
   "execution_count": 270,
   "metadata": {},
   "outputs": [],
   "source": [
    "from scipy.stats import entropy\n",
    "e =[]\n",
    "for i in doc_topic_matrix2:\n",
    "    e.append(entropy(i))\n",
    "    \n",
    "trump_speeches['entropy'] = np.array(e)"
   ]
  },
  {
   "cell_type": "code",
   "execution_count": 272,
   "metadata": {},
   "outputs": [
    {
     "data": {
      "text/plain": [
       "1.2761520076769388"
      ]
     },
     "execution_count": 272,
     "metadata": {},
     "output_type": "execute_result"
    },
    {
     "data": {
      "image/png": "[encoded data removed]",
      "text/plain": [
       "<Figure size 432x288 with 1 Axes>"
      ]
     },
     "metadata": {},
     "output_type": "display_data"
    }
   ],
   "source": [
    "sns.distplot(e)\n",
    "max(e)"
   ]
  },
  {
   "cell_type": "code",
   "execution_count": 276,
   "metadata": {},
   "outputs": [
    {
     "data": {
      "text/plain": [
       "state result\n",
       "blue state    0.317368\n",
       "red state     0.443890\n",
       "swing-blue    0.759808\n",
       "swing-red     0.691348\n",
       "Name: entropy, dtype: float64"
      ]
     },
     "execution_count": 276,
     "metadata": {},
     "output_type": "execute_result"
    }
   ],
   "source": [
    "trump_speeches.groupby(['state result'])['entropy'].median()"
   ]
  },
  {
   "cell_type": "code",
   "execution_count": 278,
   "metadata": {},
   "outputs": [
    {
     "data": {
      "text/plain": [
       "city/county type\n",
       "blue    0.620996\n",
       "red     0.673258\n",
       "Name: entropy, dtype: float64"
      ]
     },
     "execution_count": 278,
     "metadata": {},
     "output_type": "execute_result"
    }
   ],
   "source": [
    "trump_speeches.groupby(['city/county type'])['entropy'].median()"
   ]
  },
  {
   "cell_type": "code",
   "execution_count": 280,
   "metadata": {},
   "outputs": [
    {
     "data": {
      "text/plain": [
       "state result  city/county type\n",
       "blue state    blue                0.396373\n",
       "              red                 0.317368\n",
       "red state     blue                0.383779\n",
       "              red                 0.453975\n",
       "swing-blue    blue                0.750721\n",
       "              red                 0.805558\n",
       "swing-red     blue                0.769012\n",
       "              red                 0.651862\n",
       "Name: entropy, dtype: float64"
      ]
     },
     "execution_count": 280,
     "metadata": {},
     "output_type": "execute_result"
    }
   ],
   "source": [
    "trump_speeches.groupby(['state result','city/county type'])['entropy'].median()"
   ]
  },
  {
   "cell_type": "code",
   "execution_count": 310,
   "metadata": {},
   "outputs": [],
   "source": [
    "trump_speeches['main topic'] = doc_topic_matrix2.argmax(axis=1)"
   ]
  },
  {
   "cell_type": "code",
   "execution_count": 338,
   "metadata": {},
   "outputs": [],
   "source": [
    "trump_speeches['secondary topic'] = doc_topic_matrix2.argsort()[:,-2]"
   ]
  },
  {
   "cell_type": "code",
   "execution_count": 311,
   "metadata": {},
   "outputs": [
    {
     "data": {
      "text/plain": [
       "3    27\n",
       "1    22\n",
       "2    17\n",
       "0    13\n",
       "4     4\n",
       "Name: main topic, dtype: int64"
      ]
     },
     "execution_count": 311,
     "metadata": {},
     "output_type": "execute_result"
    }
   ],
   "source": [
    "trump_speeches['main topic'].value_counts()"
   ]
  },
  {
   "cell_type": "code",
   "execution_count": 341,
   "metadata": {},
   "outputs": [
    {
     "data": {
      "text/plain": [
       "state result  city/county type  main topic\n",
       "blue state    blue              1              2\n",
       "                                2              2\n",
       "                                4              2\n",
       "              red               1              2\n",
       "                                2              1\n",
       "red state     blue              1              3\n",
       "                                3              1\n",
       "              red               1              1\n",
       "                                2              2\n",
       "swing-blue    blue              0              1\n",
       "                                1              6\n",
       "                                2              6\n",
       "                                3             10\n",
       "                                4              1\n",
       "              red               0              9\n",
       "                                1              2\n",
       "                                2              2\n",
       "                                3              6\n",
       "swing-red     blue              0              2\n",
       "                                1              5\n",
       "                                2              3\n",
       "                                3              4\n",
       "                                4              1\n",
       "              red               0              1\n",
       "                                1              1\n",
       "                                2              1\n",
       "                                3              6\n",
       "Name: main topic, dtype: int64"
      ]
     },
     "execution_count": 341,
     "metadata": {},
     "output_type": "execute_result"
    }
   ],
   "source": [
    "trump_speeches.groupby(['state result','city/county type','main topic'])['main topic'].count()"
   ]
  },
  {
   "cell_type": "code",
   "execution_count": 313,
   "metadata": {},
   "outputs": [
    {
     "data": {
      "text/plain": [
       "city/county type  main topic\n",
       "blue              0              3\n",
       "                  1             16\n",
       "                  2             11\n",
       "                  3             15\n",
       "                  4              4\n",
       "red               0             10\n",
       "                  1              6\n",
       "                  2              6\n",
       "                  3             12\n",
       "Name: main topic, dtype: int64"
      ]
     },
     "execution_count": 313,
     "metadata": {},
     "output_type": "execute_result"
    }
   ],
   "source": [
    "trump_speeches.groupby(['city/county type','main topic'])['main topic'].count()"
   ]
  },
  {
   "cell_type": "code",
   "execution_count": 314,
   "metadata": {},
   "outputs": [
    {
     "data": {
      "text/plain": [
       "state result  main topic\n",
       "blue state    1              4\n",
       "              2              3\n",
       "              4              2\n",
       "red state     1              4\n",
       "              2              2\n",
       "              3              1\n",
       "swing-blue    0             10\n",
       "              1              8\n",
       "              2              8\n",
       "              3             16\n",
       "              4              1\n",
       "swing-red     0              3\n",
       "              1              6\n",
       "              2              4\n",
       "              3             10\n",
       "              4              1\n",
       "Name: main topic, dtype: int64"
      ]
     },
     "execution_count": 314,
     "metadata": {},
     "output_type": "execute_result"
    }
   ],
   "source": [
    "trump_speeches.groupby(['state result','main topic'])['main topic'].count()"
   ]
  },
  {
   "cell_type": "code",
   "execution_count": 340,
   "metadata": {},
   "outputs": [
    {
     "data": {
      "text/plain": [
       "state result  city/county type  secondary topic\n",
       "blue state    blue              0                  1\n",
       "                                2                  2\n",
       "                                3                  3\n",
       "              red               0                  2\n",
       "                                4                  1\n",
       "red state     blue              0                  1\n",
       "                                2                  1\n",
       "                                3                  1\n",
       "                                4                  1\n",
       "              red               0                  1\n",
       "                                1                  2\n",
       "swing-blue    blue              0                  5\n",
       "                                1                  2\n",
       "                                2                  5\n",
       "                                3                  4\n",
       "                                4                  8\n",
       "              red               0                  1\n",
       "                                1                  2\n",
       "                                2                  6\n",
       "                                3                  5\n",
       "                                4                  5\n",
       "swing-red     blue              0                  2\n",
       "                                1                  4\n",
       "                                2                  4\n",
       "                                3                  2\n",
       "                                4                  3\n",
       "              red               0                  2\n",
       "                                1                  4\n",
       "                                2                  1\n",
       "                                4                  2\n",
       "Name: secondary topic, dtype: int64"
      ]
     },
     "execution_count": 340,
     "metadata": {},
     "output_type": "execute_result"
    }
   ],
   "source": [
    "trump_speeches.groupby(['state result','city/county type','secondary topic'])['secondary topic'].count()"
   ]
  },
  {
   "cell_type": "code",
   "execution_count": 344,
   "metadata": {},
   "outputs": [
    {
     "data": {
      "text/plain": [
       "city/county type  secondary topic\n",
       "blue              0                   9\n",
       "                  1                   6\n",
       "                  2                  12\n",
       "                  3                  10\n",
       "                  4                  12\n",
       "red               0                   6\n",
       "                  1                   8\n",
       "                  2                   7\n",
       "                  3                   5\n",
       "                  4                   8\n",
       "Name: secondary topic, dtype: int64"
      ]
     },
     "execution_count": 344,
     "metadata": {},
     "output_type": "execute_result"
    }
   ],
   "source": [
    "trump_speeches.groupby(['city/county type','secondary topic'])['secondary topic'].count()"
   ]
  },
  {
   "cell_type": "code",
   "execution_count": 346,
   "metadata": {},
   "outputs": [
    {
     "data": {
      "text/plain": [
       "state result  secondary topic\n",
       "blue state    0                   3\n",
       "              2                   2\n",
       "              3                   3\n",
       "              4                   1\n",
       "red state     0                   2\n",
       "              1                   2\n",
       "              2                   1\n",
       "              3                   1\n",
       "              4                   1\n",
       "swing-blue    0                   6\n",
       "              1                   4\n",
       "              2                  11\n",
       "              3                   9\n",
       "              4                  13\n",
       "swing-red     0                   4\n",
       "              1                   8\n",
       "              2                   5\n",
       "              3                   2\n",
       "              4                   5\n",
       "Name: secondary topic, dtype: int64"
      ]
     },
     "execution_count": 346,
     "metadata": {},
     "output_type": "execute_result"
    }
   ],
   "source": [
    "trump_speeches.groupby(['state result','secondary topic'])['secondary topic'].count()"
   ]
  }
 ],
 "metadata": {
  "kernelspec": {
   "display_name": "Python 3",
   "language": "python",
   "name": "python3"
  },
  "language_info": {
   "codemirror_mode": {
    "name": "ipython",
    "version": 3
   },
   "file_extension": ".py",
   "mimetype": "text/x-python",
   "name": "python",
   "nbconvert_exporter": "python",
   "pygments_lexer": "ipython3",
   "version": "3.8.3"
  }
 },
 "nbformat": 4,
 "nbformat_minor": 4
}
